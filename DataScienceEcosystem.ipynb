{
 "cells": [
  {
   "cell_type": "markdown",
   "id": "7d4cdac1-0c6f-4a98-96e2-ea551320cbba",
   "metadata": {},
   "source": [
    "# CREATE A MARKDOWN CELL"
   ]
  },
  {
   "cell_type": "markdown",
   "id": "bcce0977-3e07-4090-896e-f719473e9fba",
   "metadata": {},
   "source": [
    "Data Science Tools and Ecosystem"
   ]
  },
  {
   "cell_type": "code",
   "execution_count": null,
   "id": "63a0305b-8e9d-4191-ac51-bc6dc85176fe",
   "metadata": {},
   "outputs": [],
   "source": [
    "# Create a markdown cell for an introduction"
   ]
  },
  {
   "cell_type": "markdown",
   "id": "ed30fd90-1ded-45dc-b5d5-1488fa41aa70",
   "metadata": {},
   "source": [
    "In this notebook, Data Science Tools and Ecosystem are summarized."
   ]
  },
  {
   "cell_type": "code",
   "execution_count": null,
   "id": "772c78be-775a-4c03-aa06-6e891e53d3f4",
   "metadata": {},
   "outputs": [],
   "source": [
    "#   Create a markdown cell to list data science languages"
   ]
  },
  {
   "cell_type": "markdown",
   "id": "3f34ef71-1f14-4e10-8eb6-2f3de3d5c525",
   "metadata": {},
   "source": [
    "Some of the popular languages that Data Scientists use are:\n",
    "PYTHON\n",
    "R\n",
    "SQL\n",
    "JULIA\n",
    "SCALA\n",
    "JAVA\n",
    "MATLAB"
   ]
  },
  {
   "cell_type": "code",
   "execution_count": null,
   "id": "dcc86646-71cf-4067-9f62-71aa99c8c1d0",
   "metadata": {},
   "outputs": [],
   "source": [
    "#  Create a markdown cell to list data science libraries"
   ]
  },
  {
   "cell_type": "markdown",
   "id": "7b99da66-a93f-4029-86ec-169345e2e365",
   "metadata": {},
   "source": [
    "Some of the commonly used libraries used by Data Scientists include:\n",
    "NUMPY\n",
    "PANDAS\n",
    "MATPLOTLIB\n",
    "SCIPY\n",
    "SCIKIT LEARN\n",
    "GGPLOT 2\n",
    "DATA FRAMES.J1BREEZE\n",
    "WEKA\n",
    "DEEP LEARNING TOOL BOOX"
   ]
  },
  {
   "cell_type": "code",
   "execution_count": null,
   "id": "b43e2018-0cba-47c9-a24e-35f4acf8ee5a",
   "metadata": {},
   "outputs": [],
   "source": [
    "# Create a markdown cell with a table of Data Science tools"
   ]
  },
  {
   "cell_type": "markdown",
   "id": "5bedee30-0441-4c75-8b5e-5d95b9eadc26",
   "metadata": {},
   "source": [
    "| Data Science Tools       |\n",
    "|--------------------------|\n",
    "| Jupyter Notebook         |\n",
    "| RStudio                  |\n",
    "| Apache Zeppelin          |"
   ]
  },
  {
   "cell_type": "code",
   "execution_count": null,
   "id": "a8b978a7-9391-4e12-9350-02bd680fd0ee",
   "metadata": {},
   "outputs": [],
   "source": [
    "# Create a markdown cell introducing arithmetic expression examples"
   ]
  },
  {
   "cell_type": "code",
   "execution_count": null,
   "id": "69506b1d-8df7-466f-8305-1bc8447ce141",
   "metadata": {},
   "outputs": [],
   "source": [
    "# Addition\n",
    "3 + 5\n",
    "\n",
    "# Subtraction\n",
    "10 - 4\n",
    "\n",
    "# Multiplication\n",
    "7 * 6\n",
    "\n",
    "# Division\n",
    "8 / 2\n",
    "\n",
    "# Exponentiation\n",
    "2 ** 3\n",
    "\n",
    "# Modulus (remainder of the division)\n",
    "10 % 3\n"
   ]
  },
  {
   "cell_type": "code",
   "execution_count": null,
   "id": "ece874c3-4d05-4bf0-9cd3-81cea5584369",
   "metadata": {},
   "outputs": [],
   "source": [
    "# Create a code cell to multiply and add numbers"
   ]
  },
  {
   "cell_type": "markdown",
   "id": "57a0009a-d2fc-470e-8412-20b1068de2fd",
   "metadata": {},
   "source": [
    "This a simple arithmetic expression to mutiply then add integers"
   ]
  },
  {
   "cell_type": "code",
   "execution_count": 1,
   "id": "0222f768-9e16-4626-a01c-042b9d710c3f",
   "metadata": {},
   "outputs": [
    {
     "data": {
      "text/plain": [
       "17"
      ]
     },
     "execution_count": 1,
     "metadata": {},
     "output_type": "execute_result"
    }
   ],
   "source": [
    "(3*4)+5"
   ]
  },
  {
   "cell_type": "code",
   "execution_count": null,
   "id": "d855381d-1105-4809-b1cb-8014710b8925",
   "metadata": {},
   "outputs": [],
   "source": [
    "# Create a code cell to convert minutes to hours "
   ]
  },
  {
   "cell_type": "code",
   "execution_count": null,
   "id": "8947bb36-fec5-44a3-bde7-2895bca91490",
   "metadata": {},
   "outputs": [],
   "source": [
    "# This will convert 200 minutes to hours by diving by 60"
   ]
  },
  {
   "cell_type": "code",
   "execution_count": 2,
   "id": "38ca8f7c-cf7c-4939-8391-838ce6cad5f0",
   "metadata": {},
   "outputs": [
    {
     "data": {
      "text/plain": [
       "3.3333333333333335"
      ]
     },
     "execution_count": 2,
     "metadata": {},
     "output_type": "execute_result"
    }
   ],
   "source": [
    "200/60"
   ]
  },
  {
   "cell_type": "code",
   "execution_count": null,
   "id": "29b8cdb7-b471-45f3-9dd7-6f970c36970e",
   "metadata": {},
   "outputs": [],
   "source": [
    "#  Insert a markdown cell to list Objectives"
   ]
  },
  {
   "cell_type": "markdown",
   "id": "7a347c87-869b-48a5-bdb5-53c901802b8e",
   "metadata": {},
   "source": [
    "OBJECTIVES:\n",
    ". PYTHON\n",
    ".R\n",
    ".SCALA\n"
   ]
  },
  {
   "cell_type": "code",
   "execution_count": null,
   "id": "4bafd801-ee16-411a-975b-3de02c29bd71",
   "metadata": {},
   "outputs": [],
   "source": [
    "#  Create a markdown cell to indicate the Author's name"
   ]
  },
  {
   "cell_type": "markdown",
   "id": "f86b032a-021b-4a5e-875a-3d91838c7258",
   "metadata": {},
   "source": [
    "## Author\n",
    "SETHU CHOZHIYATTIL SURESH"
   ]
  },
  {
   "cell_type": "code",
   "execution_count": null,
   "id": "a7e7fc76-10e0-4454-bd67-761ce59ac91a",
   "metadata": {},
   "outputs": [],
   "source": []
  }
 ],
 "metadata": {
  "kernelspec": {
   "display_name": "Python 3 (ipykernel)",
   "language": "python",
   "name": "python3"
  },
  "language_info": {
   "codemirror_mode": {
    "name": "ipython",
    "version": 3
   },
   "file_extension": ".py",
   "mimetype": "text/x-python",
   "name": "python",
   "nbconvert_exporter": "python",
   "pygments_lexer": "ipython3",
   "version": "3.11.7"
  }
 },
 "nbformat": 4,
 "nbformat_minor": 5
}
